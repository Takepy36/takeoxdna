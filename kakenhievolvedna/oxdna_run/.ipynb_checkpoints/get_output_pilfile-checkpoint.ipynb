{
 "cells": [
  {
   "cell_type": "code",
   "execution_count": 1,
   "metadata": {},
   "outputs": [],
   "source": [
    "import os\n",
    "import shutil\n",
    "import re\n",
    "import glob\n",
    "import subprocess as sp\n",
    "import config as cfg\n",
    "\n",
    "all_results_dir = \"../results\"\n"
   ]
  },
  {
   "cell_type": "code",
   "execution_count": 2,
   "metadata": {},
   "outputs": [],
   "source": [
    "#条件ごとのpeppercorn実行結果のディレクトリ一覧を\"パス名で\"得る\n",
    "def get_result_dir_path(all_results_dir):\n",
    "    peppercorn_results = glob.glob(\"{}/peppercorn*\".format(all_results_dir))\n",
    "    #print_lit(peppercorn_results)\n",
    "    return peppercorn_results\n",
    "    #output : list of \"resluts/(peppercorn output libraries)\"\n",
    "    \n",
    "all_results_correction= get_result_dir_path(all_results_dir)#結果ファイルのフォルダ名"
   ]
  },
  {
   "cell_type": "code",
   "execution_count": 3,
   "metadata": {},
   "outputs": [
    {
     "data": {
      "text/plain": [
       "['../results/peppercorn_result1',\n",
       " '../results/peppercorn_result2',\n",
       " '../results/peppercorn_result3']"
      ]
     },
     "execution_count": 3,
     "metadata": {},
     "output_type": "execute_result"
    }
   ],
   "source": [
    "all_results_correction"
   ]
  },
  {
   "cell_type": "code",
   "execution_count": 4,
   "metadata": {},
   "outputs": [
    {
     "name": "stdout",
     "output_type": "stream",
     "text": [
      "old_filename :  ../results/peppercorn_result1\n",
      "new filename :  ../results/peppercorn_result1\n",
      "old_filename :  ../results/peppercorn_result2\n",
      "new filename :  ../results/peppercorn_result2\n",
      "old_filename :  ../results/peppercorn_result3\n",
      "new filename :  ../results/peppercorn_result3\n",
      "directory name was modified : \n",
      " ['../results/peppercorn_result1', '../results/peppercorn_result2', '../results/peppercorn_result3']\n"
     ]
    },
    {
     "data": {
      "text/plain": [
       "['../results/peppercorn_result1',\n",
       " '../results/peppercorn_result2',\n",
       " '../results/peppercorn_result3']"
      ]
     },
     "execution_count": 4,
     "metadata": {},
     "output_type": "execute_result"
    }
   ],
   "source": [
    "#ディレクトリ一覧を受け取り、連番による簡略な名前にする\n",
    "def simplify_dirname(dirlist, parent_dirname):\n",
    "    counter = 0\n",
    "    for dirname in dirlist:\n",
    "        counter = counter + 1\n",
    "        print(\"old_filename : \", dirname)\n",
    "        print(\"new filename : \", parent_dirname + \"/peppercorn_result\"+str(counter))\n",
    "        os.rename(dirname, parent_dirname +\"/peppercorn_result\"+str(counter))\n",
    "    dirlist = get_result_dir_path(parent_dirname)\n",
    "    print(\"directory name was modified : \\n\", dirlist)\n",
    "    return dirlist\n",
    "\n",
    "simplify_dirname(all_results_correction, \"../results\")"
   ]
  },
  {
   "cell_type": "code",
   "execution_count": 5,
   "metadata": {},
   "outputs": [],
   "source": [
    "def cut_parent_dir(filepath, parent_dir):\n",
    "    newfilepath = filepath.replace(parent_dir+\"/\", \"\")\n",
    "    return newfilepath\n",
    "#cut_parent_dir(\"../results/output.pil\", \"../results\")"
   ]
  },
  {
   "cell_type": "code",
   "execution_count": 6,
   "metadata": {},
   "outputs": [
    {
     "name": "stdout",
     "output_type": "stream",
     "text": [
      "ライブラリパス： ../results/peppercorn_result1 \n",
      "\n",
      "ライブラリ名： peppercorn_result1 \n",
      "\n",
      "-----------------------------sim : peppercorn_result1 start--------------------------------\n",
      "結果ファイル： ../results/peppercorn_result1/outputPepperCorn20220601213137_26812136226678697047171492511428626041_0.pil \n",
      "\n",
      "oxdna実行結果出力先： ./sim_result_peppercorn_result1_1 \n",
      "\n",
      "executable :  ['python3', './main.py', '../results/peppercorn_result1/outputPepperCorn20220601213137_26812136226678697047171492511428626041_0.pil', './sim_result_peppercorn_result1_1']\n"
     ]
    },
    {
     "ename": "NameError",
     "evalue": "name 'result_dir_name' is not defined",
     "output_type": "error",
     "traceback": [
      "\u001b[0;31m---------------------------------------------------------------------------\u001b[0m",
      "\u001b[0;31mNameError\u001b[0m                                 Traceback (most recent call last)",
      "\u001b[0;32m<ipython-input-6-3d75cbfe0f5d>\u001b[0m in \u001b[0;36m<module>\u001b[0;34m\u001b[0m\n\u001b[1;32m     31\u001b[0m         \u001b[0mprint\u001b[0m\u001b[0;34m(\u001b[0m\u001b[0;34m\"executable : \"\u001b[0m\u001b[0;34m,\u001b[0m \u001b[0mexecutable\u001b[0m\u001b[0;34m)\u001b[0m\u001b[0;34m\u001b[0m\u001b[0;34m\u001b[0m\u001b[0m\n\u001b[1;32m     32\u001b[0m         \u001b[0;31m#python3 argv[0]:main.py argv[1]:<result pilfile> argv[2]:<output folder>\u001b[0m\u001b[0;34m\u001b[0m\u001b[0;34m\u001b[0m\u001b[0;34m\u001b[0m\u001b[0m\n\u001b[0;32m---> 33\u001b[0;31m         \u001b[0mlogfile\u001b[0m \u001b[0;34m=\u001b[0m \u001b[0;34m\"log\"\u001b[0m\u001b[0;34m+\u001b[0m\u001b[0mresult_dir_name\u001b[0m\u001b[0;34m+\u001b[0m\u001b[0;34m\".txt\"\u001b[0m\u001b[0;34m\u001b[0m\u001b[0;34m\u001b[0m\u001b[0m\n\u001b[0m\u001b[1;32m     34\u001b[0m         \u001b[0;32mwith\u001b[0m \u001b[0mopen\u001b[0m\u001b[0;34m(\u001b[0m\u001b[0mlogfile\u001b[0m\u001b[0;34m,\u001b[0m\u001b[0;34m\"w\"\u001b[0m\u001b[0;34m)\u001b[0m \u001b[0;32mas\u001b[0m \u001b[0mlog\u001b[0m\u001b[0;34m:\u001b[0m\u001b[0;34m\u001b[0m\u001b[0;34m\u001b[0m\u001b[0m\n\u001b[1;32m     35\u001b[0m             \u001b[0mrunned\u001b[0m \u001b[0;34m=\u001b[0m \u001b[0msp\u001b[0m\u001b[0;34m.\u001b[0m\u001b[0mrun\u001b[0m\u001b[0;34m(\u001b[0m\u001b[0mexecutable\u001b[0m\u001b[0;34m,\u001b[0m \u001b[0mstdout\u001b[0m\u001b[0;34m=\u001b[0m\u001b[0mlog\u001b[0m\u001b[0;34m,\u001b[0m \u001b[0mstderr\u001b[0m\u001b[0;34m=\u001b[0m\u001b[0msp\u001b[0m\u001b[0;34m.\u001b[0m\u001b[0mSTDOUT\u001b[0m\u001b[0;34m,\u001b[0m \u001b[0mtext\u001b[0m\u001b[0;34m=\u001b[0m\u001b[0;32mTrue\u001b[0m\u001b[0;34m)\u001b[0m\u001b[0;34m\u001b[0m\u001b[0;34m\u001b[0m\u001b[0m\n",
      "\u001b[0;31mNameError\u001b[0m: name 'result_dir_name' is not defined"
     ]
    }
   ],
   "source": [
    "for results_dir_path in all_results_correction:\n",
    "    \n",
    "    results_dir_name = cut_parent_dir(results_dir_path, all_results_dir)\n",
    "    #results/<ある条件でのpeppercorn実行結果ディレクトリ> の１つ\n",
    "    print(\"ライブラリパス：\", results_dir_path, \"\\n\")\n",
    "    print(\"ライブラリ名：\", results_dir_name, \"\\n\")\n",
    "    \n",
    "    print(\"-----------------------------sim : {} start--------------------------------\".format(results_dir_name))\n",
    "    \n",
    "    result_files = glob.glob(\"{}/output*.pil\".format(results_dir_path))\n",
    "    #print(\"result_files : \", result_files, \"\\n\")\n",
    "    #result_filesは、\n",
    "    #results内の複数ライブラリそれぞれにあるoutput***.pilのパスを抽出した一覧\n",
    "    \n",
    "    #各実行条件dirにあるpilファイル全てについて：\n",
    "    \n",
    "    counter_filename = 0\n",
    "    \n",
    "    for result_file in result_files:\n",
    "        counter_filename = counter_filename + 1\n",
    "        print(\"結果ファイル：\", result_file, \"\\n\")\n",
    "\n",
    "        output_folder = (\"./sim_result_\"+results_dir_name+\"_\"+str(counter_filename))\n",
    "        #output_folder = \"sim_result\" + str(counter_dirname)\n",
    "        print( \"oxdna実行結果出力先：\", output_folder, \"\\n\")\n",
    "        \n",
    "    \n",
    "        exeprogram = \"python3\"\n",
    "        exefile = \"./main.py\"\n",
    "        executable = [exeprogram, exefile, result_file, output_folder]\n",
    "        print(\"executable : \", executable)\n",
    "        #python3 argv[0]:main.py argv[1]:<result pilfile> argv[2]:<output folder>\n",
    "        logfile = \"log\"+results_dir_name+\".txt\"\n",
    "        with open(logfile,\"w\") as log:\n",
    "            runned = sp.run(executable, stdout=log, stderr=sp.STDOUT, text=True)\n",
    "            shutil.copy(result_file, output_folder)\n",
    "\n",
    "        print(\"実行コマンド：\")\n",
    "        display(executable)\n",
    "        \n",
    "    print(\"-----------------------------sim : {} end--------------------------------\".format(results_dir_name))\n",
    "\n",
    "    \n"
   ]
  },
  {
   "cell_type": "code",
   "execution_count": null,
   "metadata": {},
   "outputs": [],
   "source": []
  },
  {
   "cell_type": "code",
   "execution_count": null,
   "metadata": {},
   "outputs": [],
   "source": []
  },
  {
   "cell_type": "code",
   "execution_count": null,
   "metadata": {},
   "outputs": [],
   "source": []
  }
 ],
 "metadata": {
  "kernelspec": {
   "display_name": "Python 3",
   "language": "python",
   "name": "python3"
  },
  "language_info": {
   "codemirror_mode": {
    "name": "ipython",
    "version": 3
   },
   "file_extension": ".py",
   "mimetype": "text/x-python",
   "name": "python",
   "nbconvert_exporter": "python",
   "pygments_lexer": "ipython3",
   "version": "3.7.6"
  }
 },
 "nbformat": 4,
 "nbformat_minor": 4
}
