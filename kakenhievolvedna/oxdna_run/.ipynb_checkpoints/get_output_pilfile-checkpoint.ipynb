{
 "cells": [
  {
   "cell_type": "code",
   "execution_count": 8,
   "metadata": {},
   "outputs": [],
   "source": [
    "import os\n",
    "import re\n",
    "import glob\n",
    "import subprocess as sp\n",
    "import config as cfg"
   ]
  },
  {
   "cell_type": "code",
   "execution_count": 11,
   "metadata": {},
   "outputs": [],
   "source": [
    "#条件ごとのpeppercorn実行結果のディレクトリ一覧を\"パス名で\"得る\n",
    "def get_result_dir_path(all_results_dir):\n",
    "    peppercorn_results = glob.glob(\"{}/peppercorn*\".format(all_results_dir))\n",
    "    #print_lit(peppercorn_results)\n",
    "    return peppercorn_results\n",
    "    #output : list of \"resluts/(peppercorn output libraries)\""
   ]
  },
  {
   "cell_type": "code",
   "execution_count": 12,
   "metadata": {},
   "outputs": [],
   "source": [
    "#１つの結果ディレクトリ or pilファイルのパス名と、\n",
    "#それが属している親ディレクトリのパスを受け取り、\n",
    "#親ディレクトリパスを除いた結果ディレクトリの名前を返す。\n",
    "def erase_parent_dir_path(peppercorn_result_dir, results_dir):\n",
    "    result_dir_name =  peppercorn_result_dir.replace(results_dir+\"/\", \"\").partition('.pil')[0]\n",
    "    return result_dir_name"
   ]
  },
  {
   "cell_type": "code",
   "execution_count": null,
   "metadata": {},
   "outputs": [
    {
     "name": "stdout",
     "output_type": "stream",
     "text": [
      "ライブラリパス： ../results/peppercorn30x400x2000-L2-meanStruct1x30-nbActive2x7-log10ReactionCount1.0x5.0-length1x550-Grid3x50x55--SparseBinaryGA3-300000x40-0.5x0.5x1x2-7 \n",
      "\n",
      "ライブラリ名： peppercorn30x400x2000-L2-meanStruct1x30-nbActive2x7-log10ReactionCount1.0x5.0-length1x550-Grid3x50x55--SparseBinaryGA3-300000x40-0.5x0.5x1x2-7 \n",
      "\n",
      "oxdna実行結果出力先：\n",
      " sim_result_peppercorn30x400x2000-L2-meanStruct1x30-nbActive2x7-log10ReactionCount1.0x5.0-length1x550-Grid3x50x55--SparseBinaryGA3-300000x40-0.5x0.5x1x2-7/outputPepperCorn20220601213137_26812136226678697047171492511428626041_0\n",
      "CompletedProcess(args=['python3', './main.py', '../results/peppercorn30x400x2000-L2-meanStruct1x30-nbActive2x7-log10ReactionCount1.0x5.0-length1x550-Grid3x50x55--SparseBinaryGA3-300000x40-0.5x0.5x1x2-7/outputPepperCorn20220601213137_26812136226678697047171492511428626041_0.pil', 'sim_result_peppercorn30x400x2000-L2-meanStruct1x30-nbActive2x7-log10ReactionCount1.0x5.0-length1x550-Grid3x50x55--SparseBinaryGA3-300000x40-0.5x0.5x1x2-7/outputPepperCorn20220601213137_26812136226678697047171492511428626041_0'], returncode=1)\n",
      "実行コマンド：\n"
     ]
    },
    {
     "data": {
      "text/plain": [
       "['python3',\n",
       " './main.py',\n",
       " '../results/peppercorn30x400x2000-L2-meanStruct1x30-nbActive2x7-log10ReactionCount1.0x5.0-length1x550-Grid3x50x55--SparseBinaryGA3-300000x40-0.5x0.5x1x2-7/outputPepperCorn20220601213137_26812136226678697047171492511428626041_0.pil',\n",
       " 'sim_result_peppercorn30x400x2000-L2-meanStruct1x30-nbActive2x7-log10ReactionCount1.0x5.0-length1x550-Grid3x50x55--SparseBinaryGA3-300000x40-0.5x0.5x1x2-7/outputPepperCorn20220601213137_26812136226678697047171492511428626041_0']"
      ]
     },
     "metadata": {},
     "output_type": "display_data"
    },
    {
     "name": "stdout",
     "output_type": "stream",
     "text": [
      "ライブラリパス： ../results/peppercorn30x400x2000-L2-meanStruct1x30-nbActive2x7-log10ReactionCount1.0x5.0-length1x550-Grid3x50x55--SparseBinaryRandom-300000x40-1x2-7 \n",
      "\n",
      "ライブラリ名： peppercorn30x400x2000-L2-meanStruct1x30-nbActive2x7-log10ReactionCount1.0x5.0-length1x550-Grid3x50x55--SparseBinaryRandom-300000x40-1x2-7 \n",
      "\n",
      "oxdna実行結果出力先：\n",
      " sim_result_peppercorn30x400x2000-L2-meanStruct1x30-nbActive2x7-log10ReactionCount1.0x5.0-length1x550-Grid3x50x55--SparseBinaryRandom-300000x40-1x2-7/outputPepperCorn20220604225720_32536697893512932006281791157264610401_0\n",
      "CompletedProcess(args=['python3', './main.py', '../results/peppercorn30x400x2000-L2-meanStruct1x30-nbActive2x7-log10ReactionCount1.0x5.0-length1x550-Grid3x50x55--SparseBinaryRandom-300000x40-1x2-7/outputPepperCorn20220604225720_32536697893512932006281791157264610401_0.pil', 'sim_result_peppercorn30x400x2000-L2-meanStruct1x30-nbActive2x7-log10ReactionCount1.0x5.0-length1x550-Grid3x50x55--SparseBinaryRandom-300000x40-1x2-7/outputPepperCorn20220604225720_32536697893512932006281791157264610401_0'], returncode=1)\n",
      "実行コマンド：\n"
     ]
    },
    {
     "data": {
      "text/plain": [
       "['python3',\n",
       " './main.py',\n",
       " '../results/peppercorn30x400x2000-L2-meanStruct1x30-nbActive2x7-log10ReactionCount1.0x5.0-length1x550-Grid3x50x55--SparseBinaryRandom-300000x40-1x2-7/outputPepperCorn20220604225720_32536697893512932006281791157264610401_0.pil',\n",
       " 'sim_result_peppercorn30x400x2000-L2-meanStruct1x30-nbActive2x7-log10ReactionCount1.0x5.0-length1x550-Grid3x50x55--SparseBinaryRandom-300000x40-1x2-7/outputPepperCorn20220604225720_32536697893512932006281791157264610401_0']"
      ]
     },
     "metadata": {},
     "output_type": "display_data"
    },
    {
     "name": "stdout",
     "output_type": "stream",
     "text": [
      "oxdna実行結果出力先：\n",
      " sim_result_peppercorn30x400x2000-L2-meanStruct1x30-nbActive2x7-log10ReactionCount1.0x5.0-length1x550-Grid3x50x55--SparseBinaryRandom-300000x40-1x2-7/outputPepperCorn20220604225720_66486284616478189036440734393631439104_0\n",
      "CompletedProcess(args=['python3', './main.py', '../results/peppercorn30x400x2000-L2-meanStruct1x30-nbActive2x7-log10ReactionCount1.0x5.0-length1x550-Grid3x50x55--SparseBinaryRandom-300000x40-1x2-7/outputPepperCorn20220604225720_66486284616478189036440734393631439104_0.pil', 'sim_result_peppercorn30x400x2000-L2-meanStruct1x30-nbActive2x7-log10ReactionCount1.0x5.0-length1x550-Grid3x50x55--SparseBinaryRandom-300000x40-1x2-7/outputPepperCorn20220604225720_66486284616478189036440734393631439104_0'], returncode=1)\n",
      "実行コマンド：\n"
     ]
    },
    {
     "data": {
      "text/plain": [
       "['python3',\n",
       " './main.py',\n",
       " '../results/peppercorn30x400x2000-L2-meanStruct1x30-nbActive2x7-log10ReactionCount1.0x5.0-length1x550-Grid3x50x55--SparseBinaryRandom-300000x40-1x2-7/outputPepperCorn20220604225720_66486284616478189036440734393631439104_0.pil',\n",
       " 'sim_result_peppercorn30x400x2000-L2-meanStruct1x30-nbActive2x7-log10ReactionCount1.0x5.0-length1x550-Grid3x50x55--SparseBinaryRandom-300000x40-1x2-7/outputPepperCorn20220604225720_66486284616478189036440734393631439104_0']"
      ]
     },
     "metadata": {},
     "output_type": "display_data"
    },
    {
     "name": "stdout",
     "output_type": "stream",
     "text": [
      "oxdna実行結果出力先：\n",
      " sim_result_peppercorn30x400x2000-L2-meanStruct1x30-nbActive2x7-log10ReactionCount1.0x5.0-length1x550-Grid3x50x55--SparseBinaryRandom-300000x40-1x2-7/outputPepperCorn20220604225720_75837242195319408246356269966513230625_0\n",
      "CompletedProcess(args=['python3', './main.py', '../results/peppercorn30x400x2000-L2-meanStruct1x30-nbActive2x7-log10ReactionCount1.0x5.0-length1x550-Grid3x50x55--SparseBinaryRandom-300000x40-1x2-7/outputPepperCorn20220604225720_75837242195319408246356269966513230625_0.pil', 'sim_result_peppercorn30x400x2000-L2-meanStruct1x30-nbActive2x7-log10ReactionCount1.0x5.0-length1x550-Grid3x50x55--SparseBinaryRandom-300000x40-1x2-7/outputPepperCorn20220604225720_75837242195319408246356269966513230625_0'], returncode=1)\n",
      "実行コマンド：\n"
     ]
    },
    {
     "data": {
      "text/plain": [
       "['python3',\n",
       " './main.py',\n",
       " '../results/peppercorn30x400x2000-L2-meanStruct1x30-nbActive2x7-log10ReactionCount1.0x5.0-length1x550-Grid3x50x55--SparseBinaryRandom-300000x40-1x2-7/outputPepperCorn20220604225720_75837242195319408246356269966513230625_0.pil',\n",
       " 'sim_result_peppercorn30x400x2000-L2-meanStruct1x30-nbActive2x7-log10ReactionCount1.0x5.0-length1x550-Grid3x50x55--SparseBinaryRandom-300000x40-1x2-7/outputPepperCorn20220604225720_75837242195319408246356269966513230625_0']"
      ]
     },
     "metadata": {},
     "output_type": "display_data"
    },
    {
     "name": "stdout",
     "output_type": "stream",
     "text": [
      "oxdna実行結果出力先：\n",
      " sim_result_peppercorn30x400x2000-L2-meanStruct1x30-nbActive2x7-log10ReactionCount1.0x5.0-length1x550-Grid3x50x55--SparseBinaryRandom-300000x40-1x2-7/outputPepperCorn20220605121324_66006321224434689646380088011439761561_0\n",
      "CompletedProcess(args=['python3', './main.py', '../results/peppercorn30x400x2000-L2-meanStruct1x30-nbActive2x7-log10ReactionCount1.0x5.0-length1x550-Grid3x50x55--SparseBinaryRandom-300000x40-1x2-7/outputPepperCorn20220605121324_66006321224434689646380088011439761561_0.pil', 'sim_result_peppercorn30x400x2000-L2-meanStruct1x30-nbActive2x7-log10ReactionCount1.0x5.0-length1x550-Grid3x50x55--SparseBinaryRandom-300000x40-1x2-7/outputPepperCorn20220605121324_66006321224434689646380088011439761561_0'], returncode=1)\n",
      "実行コマンド：\n"
     ]
    },
    {
     "data": {
      "text/plain": [
       "['python3',\n",
       " './main.py',\n",
       " '../results/peppercorn30x400x2000-L2-meanStruct1x30-nbActive2x7-log10ReactionCount1.0x5.0-length1x550-Grid3x50x55--SparseBinaryRandom-300000x40-1x2-7/outputPepperCorn20220605121324_66006321224434689646380088011439761561_0.pil',\n",
       " 'sim_result_peppercorn30x400x2000-L2-meanStruct1x30-nbActive2x7-log10ReactionCount1.0x5.0-length1x550-Grid3x50x55--SparseBinaryRandom-300000x40-1x2-7/outputPepperCorn20220605121324_66006321224434689646380088011439761561_0']"
      ]
     },
     "metadata": {},
     "output_type": "display_data"
    },
    {
     "name": "stdout",
     "output_type": "stream",
     "text": [
      "ライブラリパス： ../results/peppercorntest \n",
      "\n",
      "ライブラリ名： peppercorntest \n",
      "\n",
      "oxdna実行結果出力先：\n",
      " sim_result_peppercorntest/output\n"
     ]
    }
   ],
   "source": [
    "all_results_dir = \"../results\"\n",
    "all_results_correction= get_result_dir_path(all_results_dir)\n",
    "\n",
    "for results_dir_single in all_results_correction:\n",
    "    #results_dir_single : \n",
    "    #results/<ある条件でのpeppercorn実行結果ディレクトリ> の１つ\n",
    "    result_dir_name = erase_parent_dir_path(results_dir_single, all_results_dir)\n",
    "    print(\"ライブラリパス：\", results_dir_single, \"\\n\")\n",
    "    print(\"ライブラリ名：\", result_dir_name, \"\\n\")\n",
    "    result_files = glob.glob(\"{}/output*.pil\".format(results_dir_single))\n",
    "    #result_filesは、\n",
    "    #results内の複数ライブラリそれぞれにあるoutput***.pilを抽出した一覧\n",
    "\n",
    "    for result_file in result_files:\n",
    "        #print(\"結果ファイル：\", result_file, \"\\n\")\n",
    "        \n",
    "        output_folder = (\"sim_result_\" + erase_parent_dir_path(result_file, all_results_dir).replace(\".\",\",\"))\n",
    "        \n",
    "        print( \"oxdna実行結果出力先：\\n\", output_folder)\n",
    "        exeprogram = \"python3\"\n",
    "        exefile = \"./main.py\"\n",
    "        executable = [exeprogram, exefile, result_file, output_folder]\n",
    "        #python3 argv[0]:main.py argv[1]:<result pilfile> argv[2]:<output folder>\n",
    "        logfile = \"log\"+result_dir_name+\".txt\"\n",
    "        with open(logfile,\"w\") as log:\n",
    "            runned = sp.run(executable, stdout=log, stderr=sp.STDOUT, text=True)\n",
    "        print(runned)\n",
    "        \n",
    "        print(\"実行コマンド：\")\n",
    "        display(executable)\n"
   ]
  },
  {
   "cell_type": "code",
   "execution_count": null,
   "metadata": {},
   "outputs": [],
   "source": []
  },
  {
   "cell_type": "code",
   "execution_count": null,
   "metadata": {},
   "outputs": [],
   "source": []
  }
 ],
 "metadata": {
  "kernelspec": {
   "display_name": "Python 3",
   "language": "python",
   "name": "python3"
  },
  "language_info": {
   "codemirror_mode": {
    "name": "ipython",
    "version": 3
   },
   "file_extension": ".py",
   "mimetype": "text/x-python",
   "name": "python",
   "nbconvert_exporter": "python",
   "pygments_lexer": "ipython3",
   "version": "3.7.6"
  }
 },
 "nbformat": 4,
 "nbformat_minor": 4
}
