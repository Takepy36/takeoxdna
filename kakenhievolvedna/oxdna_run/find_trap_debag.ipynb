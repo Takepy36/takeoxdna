{
 "cells": [
  {
   "cell_type": "code",
   "execution_count": 1,
   "metadata": {},
   "outputs": [
    {
     "data": {
      "text/plain": [
       "<module 'config' from '/Users/takepy/takeoxdna/kakenhievolvedna/oxdna_run/config.py'>"
      ]
     },
     "execution_count": 1,
     "metadata": {},
     "output_type": "execute_result"
    }
   ],
   "source": [
    "import re\n",
    "import sys\n",
    "import random\n",
    "import os\n",
    "import subprocess as sp\n",
    "from multiprocessing.pool import Pool\n",
    "import shutil\n",
    "import pandas as pd\n",
    "import matplotlib as mpl\n",
    "import matplotlib.pyplot as plt\n",
    "import importlib\n",
    "import functools\n",
    "\n",
    "import find_trap as findtrap\n",
    "import run_output_bonds_func as robf\n",
    "import convexhull as cvh\n",
    "import vista_func as vf\n",
    "import get_coordinate as gc\n",
    "import config as cfg\n",
    "importlib.reload(findtrap)\n",
    "importlib.reload(robf)\n",
    "importlib.reload(cvh)\n",
    "importlib.reload(vf)\n",
    "importlib.reload(cfg)"
   ]
  },
  {
   "cell_type": "code",
   "execution_count": 2,
   "metadata": {},
   "outputs": [],
   "source": [
    "import main"
   ]
  },
  {
   "cell_type": "code",
   "execution_count": 3,
   "metadata": {},
   "outputs": [],
   "source": [
    "def make_domain_list(linelist, length_tup):\n",
    "    index_domains = []\n",
    "    \n",
    "    count_start = 0\n",
    "    \n",
    "    for block in linelist:\n",
    "        print(\"block : \", block)\n",
    "\n",
    "        #[('a*', 0), ('b', 1)]\n",
    "        \"\"\"\n",
    "        block0 = list(block[0])\n",
    "        #block1 = list(block[1])だったが、長さ3以上の構造に対応できなかった。\n",
    "        block1 = list(block[-1])#ブロックの最後尾を取ることにした\n",
    "\n",
    "        index_domain1 = [block0[0], block0[1], count_start, count_end]       \n",
    "        count_start +=length_tup[0]\n",
    "        count_end += length_tup[0]\n",
    "        index_domain2 = [block1[0], block1[1], count_start, count_end] \n",
    "        count_start +=length_tup[1]\n",
    "        count_end += length_tup[1]\n",
    "        print(\"index_domain : \", index_domain1, index_domain2)\n",
    "        index_domain.append(index_domain1)\n",
    "        index_domain.append(index_domain2)\n",
    "        \"\"\"\n",
    "        \n",
    "        for b in block:\n",
    "            count_end = count_start + length_tup[b[0][0]]\n",
    "            index_domains.append([b[0],b[1],count_start,count_end-1])\n",
    "            count_start = count_end\n",
    "        \n",
    "        #index_domain.append( index_domain1 + index_domain2 + [block])\n",
    "        print(index_domains)\n",
    "    return index_domains"
   ]
  },
  {
   "cell_type": "code",
   "execution_count": 4,
   "metadata": {},
   "outputs": [],
   "source": [
    "def make_domain_df(lst):\n",
    "    df2 = pd.DataFrame(lst, columns =[\"domain\", \"num\", \"start_index\", \"end_index\"])\n",
    "    return df2"
   ]
  },
  {
   "cell_type": "code",
   "execution_count": 5,
   "metadata": {},
   "outputs": [],
   "source": [
    "def drop_not_connected(df):\n",
    "    newdf = df[df['num'] >= 0]\n",
    "    return newdf"
   ]
  },
  {
   "cell_type": "code",
   "execution_count": 6,
   "metadata": {},
   "outputs": [],
   "source": [
    "def make_groups(df):\n",
    "    pairs = df.groupby([\"num\"])\n",
    "    return pairs\n"
   ]
  },
  {
   "cell_type": "code",
   "execution_count": 7,
   "metadata": {},
   "outputs": [],
   "source": [
    "def count_domains(df):\n",
    "    df_pairs = pd.DataFrame(df[\"num\"].value_counts())\n",
    "    return len(df_pairs)"
   ]
  },
  {
   "cell_type": "code",
   "execution_count": 8,
   "metadata": {},
   "outputs": [],
   "source": [
    "def make_external(df, target, output_dir):\n",
    "            \n",
    "    #output_path = \"traps/external_{}.conf\".format(target)\n",
    "    output_path = os.path.join(output_dir, \"external_{}.conf\".format(target))\n",
    "    external_file = open(output_path, \"w\")\n",
    "    domains_num = count_domains(df)\n",
    "    pairs = make_groups(df)\n",
    "    print(pairs.groups)\n",
    "    \n",
    "    for x in range (0, domains_num):        \n",
    "        print(\"roop\", x)\n",
    "        group = pairs.get_group(x)\n",
    "        print(\"group:\\n\", group, \"\\n\")\n",
    "        start_index_min = group[\"start_index\"].min()\n",
    "        end_index_max =  group[\"end_index\"].max()\n",
    "        print(\"index : \", start_index_min, \" \" , end_index_max)\n",
    "        lines = [\"{\\n\",\"type = mutual_trap\\n\",\"particle = {}\\n\".format(start_index_min),\"ref_particle = {}\\n\".format(end_index_max),\"stiff = 1.\\n\",\"r0 = 1.2\\n\",\"}\\n\"\"{\\n\", \"type = mutual_trap\\n\",\"particle = {}\\n\".format(end_index_max),\"ref_particle = {}\\n\".format(start_index_min),\"stiff = 1.\\n\",\"r0 = 1.2\\n\",\"}\\n\"]\n",
    "        external_file.writelines(lines)\n",
    "    external_file.close()"
   ]
  },
  {
   "cell_type": "code",
   "execution_count": 9,
   "metadata": {},
   "outputs": [],
   "source": [
    "def make_trap(linelist, length_tup, target, output_dir):\n",
    "    #print(linelist, \"\\n\")\n",
    "    domain_list = make_domain_list(linelist, length_tup)\n",
    "    print(\"domain_list : \", domain_list, \"\\n\")\n",
    "    domain_df = make_domain_df(domain_list)\n",
    "    print(\"domain_df : \\n\", domain_df)\n",
    "    connected_df = drop_not_connected(domain_df)\n",
    "    print(\"connected_df : \\n\", connected_df)\n",
    "    make_external(connected_df, target, output_dir)\n",
    "    return domain_list\n"
   ]
  },
  {
   "cell_type": "code",
   "execution_count": 10,
   "metadata": {},
   "outputs": [],
   "source": [
    "string = \"e3001 = a* b( a*( ) + ) a* a b*( + a* ) a* a\"\n",
    "#string = \"e24 = a( b( + a* ) + ) b*( + a )\"\n",
    "#replaced_linelist = main.replace_parentheses(string)\n",
    "#display(replaced_linelist)"
   ]
  },
  {
   "cell_type": "code",
   "execution_count": 13,
   "metadata": {},
   "outputs": [],
   "source": [
    "length_a = 6\n",
    "length_b = 7\n",
    "length_tup = {\"a\":length_a, \"b\":length_b}\n",
    "str_a = main.get_random_DNA(length_a)\n",
    "str_b = main.get_random_DNA(length_b)\n",
    "str_a_star = main.get_comp_DNA(str_a)\n",
    "str_b_star = main.get_comp_DNA(str_b)\n",
    "output_ATGC_folder = \".\""
   ]
  },
  {
   "cell_type": "code",
   "execution_count": 14,
   "metadata": {},
   "outputs": [
    {
     "name": "stdout",
     "output_type": "stream",
     "text": [
      "replace_parentheses() : start\n",
      "\n",
      "index, character :  0  ,   \n",
      "accumulate :  []\n",
      "current_strand :  [] \n",
      "\n",
      "index, character :  1  ,  a\n",
      "accumulate :  ['a']\n",
      "current_strand :  [] \n",
      "\n",
      "index, character :  2  ,  *\n",
      "accumulate :  ['a', '*']\n",
      "current_strand :  [] \n",
      "\n",
      "index, character :  3  ,   \n",
      "accumulate :  []\n",
      "current_strand :  [('a*', -1)] \n",
      "\n",
      "index, character :  4  ,  b\n",
      "accumulate :  ['b']\n",
      "current_strand :  [('a*', -1)] \n",
      "\n",
      "index, character :  5  ,  (\n",
      "accumulate :  []\n",
      "current_strand :  [('a*', -1), ('b', 0)] \n",
      "\n",
      "index, character :  6  ,   \n",
      "accumulate :  []\n",
      "current_strand :  [('a*', -1), ('b', 0)] \n",
      "\n",
      "index, character :  7  ,  a\n",
      "accumulate :  ['a']\n",
      "current_strand :  [('a*', -1), ('b', 0)] \n",
      "\n",
      "index, character :  8  ,  *\n",
      "accumulate :  ['a', '*']\n",
      "current_strand :  [('a*', -1), ('b', 0)] \n",
      "\n",
      "index, character :  9  ,  (\n",
      "accumulate :  []\n",
      "current_strand :  [('a*', -1), ('b', 0), ('a*', 1)] \n",
      "\n",
      "index, character :  10  ,   \n",
      "accumulate :  []\n",
      "current_strand :  [('a*', -1), ('b', 0), ('a*', 1)] \n",
      "\n",
      "index, character :  11  ,  )\n",
      "accumulate :  []\n",
      "current_strand :  [('a*', -1), ('b', 0), ('a*', 1), ('a', 1)] \n",
      "\n",
      "index, character :  12  ,   \n",
      "accumulate :  []\n",
      "current_strand :  [('a*', -1), ('b', 0), ('a*', 1), ('a', 1)] \n",
      "\n",
      "index, character :  13  ,  +\n",
      "accumulate :  []\n",
      "current_strand :  [] \n",
      "\n",
      "index, character :  14  ,   \n",
      "accumulate :  []\n",
      "current_strand :  [] \n",
      "\n",
      "index, character :  15  ,  )\n",
      "accumulate :  []\n",
      "current_strand :  [('b*', 0)] \n",
      "\n",
      "index, character :  16  ,   \n",
      "accumulate :  []\n",
      "current_strand :  [('b*', 0)] \n",
      "\n",
      "index, character :  17  ,  a\n",
      "accumulate :  ['a']\n",
      "current_strand :  [('b*', 0)] \n",
      "\n",
      "index, character :  18  ,  *\n",
      "accumulate :  ['a', '*']\n",
      "current_strand :  [('b*', 0)] \n",
      "\n",
      "index, character :  19  ,   \n",
      "accumulate :  []\n",
      "current_strand :  [('b*', 0), ('a*', -1)] \n",
      "\n",
      "index, character :  20  ,  a\n",
      "accumulate :  ['a']\n",
      "current_strand :  [('b*', 0), ('a*', -1)] \n",
      "\n",
      "index, character :  21  ,   \n",
      "accumulate :  []\n",
      "current_strand :  [('b*', 0), ('a*', -1), ('a', -1)] \n",
      "\n",
      "index, character :  22  ,  b\n",
      "accumulate :  ['b']\n",
      "current_strand :  [('b*', 0), ('a*', -1), ('a', -1)] \n",
      "\n",
      "index, character :  23  ,  *\n",
      "accumulate :  ['b', '*']\n",
      "current_strand :  [('b*', 0), ('a*', -1), ('a', -1)] \n",
      "\n",
      "index, character :  24  ,  (\n",
      "accumulate :  []\n",
      "current_strand :  [('b*', 0), ('a*', -1), ('a', -1), ('b*', 2)] \n",
      "\n",
      "index, character :  25  ,   \n",
      "accumulate :  []\n",
      "current_strand :  [('b*', 0), ('a*', -1), ('a', -1), ('b*', 2)] \n",
      "\n",
      "index, character :  26  ,  +\n",
      "accumulate :  []\n",
      "current_strand :  [] \n",
      "\n",
      "index, character :  27  ,   \n",
      "accumulate :  []\n",
      "current_strand :  [] \n",
      "\n",
      "index, character :  28  ,  a\n",
      "accumulate :  ['a']\n",
      "current_strand :  [] \n",
      "\n",
      "index, character :  29  ,  *\n",
      "accumulate :  ['a', '*']\n",
      "current_strand :  [] \n",
      "\n",
      "index, character :  30  ,   \n",
      "accumulate :  []\n",
      "current_strand :  [('a*', -1)] \n",
      "\n",
      "index, character :  31  ,  )\n",
      "accumulate :  []\n",
      "current_strand :  [('a*', -1), ('b', 2)] \n",
      "\n",
      "index, character :  32  ,   \n",
      "accumulate :  []\n",
      "current_strand :  [('a*', -1), ('b', 2)] \n",
      "\n",
      "index, character :  33  ,  a\n",
      "accumulate :  ['a']\n",
      "current_strand :  [('a*', -1), ('b', 2)] \n",
      "\n",
      "index, character :  34  ,  *\n",
      "accumulate :  ['a', '*']\n",
      "current_strand :  [('a*', -1), ('b', 2)] \n",
      "\n",
      "index, character :  35  ,   \n",
      "accumulate :  []\n",
      "current_strand :  [('a*', -1), ('b', 2), ('a*', -1)] \n",
      "\n",
      "index, character :  36  ,  a\n",
      "accumulate :  ['a']\n",
      "current_strand :  [('a*', -1), ('b', 2), ('a*', -1)] \n",
      "\n",
      "./e3001.txt \n",
      " [[('a*', -1), ('b', 0), ('a*', 1), ('a', 1)], [('b*', 0), ('a*', -1), ('a', -1), ('b*', 2)], [('a*', -1), ('b', 2), ('a*', -1)]]\n",
      "block :  [('a*', -1), ('b', 0), ('a*', 1), ('a', 1)]\n",
      "[['a*', -1, 0, 5], ['b', 0, 6, 12], ['a*', 1, 13, 18], ['a', 1, 19, 24]]\n",
      "block :  [('b*', 0), ('a*', -1), ('a', -1), ('b*', 2)]\n",
      "[['a*', -1, 0, 5], ['b', 0, 6, 12], ['a*', 1, 13, 18], ['a', 1, 19, 24], ['b*', 0, 25, 31], ['a*', -1, 32, 37], ['a', -1, 38, 43], ['b*', 2, 44, 50]]\n",
      "block :  [('a*', -1), ('b', 2), ('a*', -1)]\n",
      "[['a*', -1, 0, 5], ['b', 0, 6, 12], ['a*', 1, 13, 18], ['a', 1, 19, 24], ['b*', 0, 25, 31], ['a*', -1, 32, 37], ['a', -1, 38, 43], ['b*', 2, 44, 50], ['a*', -1, 51, 56], ['b', 2, 57, 63], ['a*', -1, 64, 69]]\n"
     ]
    },
    {
     "data": {
      "text/plain": [
       "[['a*', -1, 0, 5],\n",
       " ['b', 0, 6, 12],\n",
       " ['a*', 1, 13, 18],\n",
       " ['a', 1, 19, 24],\n",
       " ['b*', 0, 25, 31],\n",
       " ['a*', -1, 32, 37],\n",
       " ['a', -1, 38, 43],\n",
       " ['b*', 2, 44, 50],\n",
       " ['a*', -1, 51, 56],\n",
       " ['b', 2, 57, 63],\n",
       " ['a*', -1, 64, 69]]"
      ]
     },
     "metadata": {},
     "output_type": "display_data"
    }
   ],
   "source": [
    "filename, replaced_linelist = main.write_file(string, str_a, str_b, str_a_star, str_b_star, output_ATGC_folder)\n",
    "print(filename, \"\\n\", replaced_linelist)\n",
    "domain_list = make_domain_list(replaced_linelist, length_tup)\n",
    "display(domain_list)"
   ]
  },
  {
   "cell_type": "markdown",
   "metadata": {},
   "source": [
    " [[('a*', 0), ('b', 1), ('a*', 2), ('a', 2)], [('b*', 1), ('a*', -1), ('a', 0), ('b*', 3)], [('a*', -1), ('b', 3), ('a*', 4), ('a', 4)]]\n",
    "は、(domain, num)についてnumが\"(\", \")\"の関係に対応する。同じnumのドメイン同士が結合している"
   ]
  },
  {
   "cell_type": "code",
   "execution_count": null,
   "metadata": {},
   "outputs": [],
   "source": [
    "domain_list"
   ]
  },
  {
   "cell_type": "code",
   "execution_count": null,
   "metadata": {},
   "outputs": [],
   "source": []
  }
 ],
 "metadata": {
  "kernelspec": {
   "display_name": "Python 3",
   "language": "python",
   "name": "python3"
  },
  "language_info": {
   "codemirror_mode": {
    "name": "ipython",
    "version": 3
   },
   "file_extension": ".py",
   "mimetype": "text/x-python",
   "name": "python",
   "nbconvert_exporter": "python",
   "pygments_lexer": "ipython3",
   "version": "3.7.6"
  }
 },
 "nbformat": 4,
 "nbformat_minor": 4
}
