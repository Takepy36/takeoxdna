{
 "cells": [
  {
   "cell_type": "code",
   "execution_count": 1,
   "metadata": {},
   "outputs": [],
   "source": [
    "import os\n",
    "import shutil\n",
    "import re\n",
    "import glob\n",
    "import datetime\n",
    "import subprocess as sp\n",
    "import config as cfg\n",
    "\n",
    "all_results_dir = \"../results\"\n"
   ]
  },
  {
   "cell_type": "code",
   "execution_count": 2,
   "metadata": {},
   "outputs": [],
   "source": [
    "#条件ごとのpeppercorn実行結果のディレクトリ一覧を\"パス名で\"得る\n",
    "def get_result_dir_path(all_results_dir):\n",
    "    peppercorn_results = glob.glob(\"{}/peppercorn*\".format(all_results_dir))\n",
    "    #print_lit(peppercorn_results)\n",
    "    return peppercorn_results\n",
    "    #output : list of \"resluts/(peppercorn output libraries)\"\n",
    "    \n",
    "all_results_correction= get_result_dir_path(all_results_dir)#結果ファイルのフォルダ名"
   ]
  },
  {
   "cell_type": "code",
   "execution_count": 3,
   "metadata": {},
   "outputs": [
    {
     "data": {
      "text/plain": [
       "['../results/peppercorntest']"
      ]
     },
     "execution_count": 3,
     "metadata": {},
     "output_type": "execute_result"
    }
   ],
   "source": [
    "all_results_correction"
   ]
  },
  {
   "cell_type": "markdown",
   "metadata": {},
   "source": [
    "#ディレクトリ一覧を受け取り、連番による簡略な名前にする\n",
    "def simplify_dirname(dirlist, parent_dirname):\n",
    "    counter = 0\n",
    "    for dirname in dirlist:\n",
    "        counter = counter + 1\n",
    "        print(\"old_filename : \", dirname)\n",
    "        print(\"new filename : \", parent_dirname + \"/peppercorn_result\"+str(counter))\n",
    "        shutil.move(dirname, parent_dirname +\"/peppercorn_result\"+str(counter))\n",
    "    dirlist = get_result_dir_path(parent_dirname)\n",
    "    print(\"directory name was modified : \\n\", dirlist)\n",
    "    return dirlist\n",
    "\n",
    "#simplify_dirname(all_results_correction, \"../results\")"
   ]
  },
  {
   "cell_type": "code",
   "execution_count": 4,
   "metadata": {},
   "outputs": [],
   "source": [
    "def cut_parent_dir(filepath, parent_dir):\n",
    "    newfilepath = filepath.replace(parent_dir+\"/\", \"\")\n",
    "    return newfilepath\n",
    "#cut_parent_dir(\"../results/output.pil\", \"../results\")"
   ]
  },
  {
   "cell_type": "code",
   "execution_count": null,
   "metadata": {},
   "outputs": [
    {
     "name": "stdout",
     "output_type": "stream",
     "text": [
      "ライブラリパス： ../results/peppercorntest \n",
      "\n",
      "ライブラリ名： peppercorntest \n",
      "\n",
      "-----------------------------sim : peppercorntest start--------------------------------\n",
      "結果ファイル： ../results/peppercorntest/outputPepperCorn20220719181305_38101019984047591452587377159558514161_0.pil \n",
      "\n",
      "oxdna実行結果出力先： ./sim_result_peppercorn_2022-07-21_14_32_55220073 \n",
      "\n",
      "executable :  ['python3', './main.py', '../results/peppercorntest/outputPepperCorn20220719181305_38101019984047591452587377159558514161_0.pil', './sim_result_peppercorn_2022-07-21_14_32_55220073']\n",
      "log :  2022-07-21_14_32_55220073_log.txt\n"
     ]
    }
   ],
   "source": [
    "d = {' ' :  '_', '.' :  '', ':' : '_'}\n",
    "\n",
    "tbl = str.maketrans(d)\n",
    "\n",
    "for results_dir_path in all_results_correction:\n",
    "    \n",
    "    results_dir_name = cut_parent_dir(results_dir_path, all_results_dir)\n",
    "    #results/<ある条件でのpeppercorn実行結果ディレクトリ> の１つ\n",
    "    print(\"ライブラリパス：\", results_dir_path, \"\\n\")\n",
    "    print(\"ライブラリ名：\", results_dir_name, \"\\n\")\n",
    "    \n",
    "    print(\"-----------------------------sim : {} start--------------------------------\".format(results_dir_name))\n",
    "    \n",
    "    result_files = glob.glob(\"{}/output*.pil\".format(results_dir_path))\n",
    "    #print(\"result_files : \", result_files, \"\\n\")\n",
    "    #result_filesは、\n",
    "    #results内の複数ライブラリそれぞれにあるoutput***.pilのパスを抽出した一覧\n",
    "    \n",
    "    #各実行条件dirにあるpilファイル全てについて：\n",
    "    \n",
    "    \n",
    "    \n",
    "    for result_file in result_files:\n",
    "        print(\"結果ファイル：\", result_file, \"\\n\")\n",
    "        datetime_sim = str(datetime.datetime.now()).translate(tbl)\n",
    "        output_folder = (\"./sim_result_peppercorn_\"+datetime_sim)# ??\n",
    "        #output_folder = \"sim_result\" + str(counter_dirname)\n",
    "        print( \"oxdna実行結果出力先：\", output_folder, \"\\n\")\n",
    "        \n",
    "    \n",
    "        exeprogram = \"python3\"\n",
    "        exefile = \"./main.py\"\n",
    "        executable = [exeprogram, exefile, result_file, output_folder]\n",
    "        print(\"executable : \", executable)\n",
    "        #python3 argv[0]:main.py argv[1]:<result pilfile> argv[2]:<output folder>\n",
    "        logfile = datetime_sim+\"_log.txt\"\n",
    "        print(\"log : \",logfile)\n",
    "        with open(logfile,\"w\") as log:\n",
    "            runned = sp.run(executable, stdout=log, stderr=sp.STDOUT, text=True)\n",
    "            shutil.copy(result_file, output_folder)\n",
    "            \n",
    "        \n",
    "\n",
    "        print(\"実行コマンド：\")\n",
    "        display(executable)\n",
    "        \n",
    "            \n",
    "    new_logpath = shutil.move(logfile, output_folder+\"/\"+logfile)\n",
    "    print(new_logpath)\n",
    "    print(\"-----------------------------sim : {} end--------------------------------\".format(results_dir_name))\n",
    "\n",
    "    \n"
   ]
  },
  {
   "cell_type": "code",
   "execution_count": null,
   "metadata": {},
   "outputs": [],
   "source": []
  },
  {
   "cell_type": "code",
   "execution_count": null,
   "metadata": {},
   "outputs": [],
   "source": []
  },
  {
   "cell_type": "code",
   "execution_count": null,
   "metadata": {},
   "outputs": [],
   "source": []
  },
  {
   "cell_type": "code",
   "execution_count": null,
   "metadata": {},
   "outputs": [],
   "source": []
  }
 ],
 "metadata": {
  "kernelspec": {
   "display_name": "Python 3",
   "language": "python",
   "name": "python3"
  },
  "language_info": {
   "codemirror_mode": {
    "name": "ipython",
    "version": 3
   },
   "file_extension": ".py",
   "mimetype": "text/x-python",
   "name": "python",
   "nbconvert_exporter": "python",
   "pygments_lexer": "ipython3",
   "version": "3.7.6"
  },
  "vscode": {
   "interpreter": {
    "hash": "2c77d04659eed91cd59af899ef857c63df7af26b17d9072ac92f8acaf82a929a"
   }
  }
 },
 "nbformat": 4,
 "nbformat_minor": 4
}
