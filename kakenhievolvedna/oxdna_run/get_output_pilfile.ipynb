{
 "cells": [
  {
   "cell_type": "code",
   "execution_count": 1,
   "metadata": {},
   "outputs": [],
   "source": [
    "import os\n",
    "import shutil\n",
    "import re\n",
    "import glob\n",
    "import datetime\n",
    "import subprocess as sp\n",
    "import config as cfg"
   ]
  },
  {
   "cell_type": "code",
   "execution_count": 2,
   "metadata": {},
   "outputs": [],
   "source": [
    "#条件ごとのpeppercorn実行結果のディレクトリ一覧を\"パス名で\"得る\n",
    "def get_result_dir_path(all_results_dir):\n",
    "    peppercorn_results = glob.glob(\"{}/peppercorn*\".format(all_results_dir))\n",
    "    return peppercorn_results\n",
    "    #output : list of \"resluts/(peppercorn output libraries)\""
   ]
  },
  {
   "cell_type": "code",
   "execution_count": 3,
   "metadata": {},
   "outputs": [],
   "source": [
    "def cut_parent_dir(filepath, parent_dir):\n",
    "    newfilepath = filepath.replace(parent_dir+\"/\", \"\")\n",
    "    return newfilepath\n",
    "#cut_parent_dir(\"../results/output.pil\", \"../results\")"
   ]
  },
  {
   "cell_type": "code",
   "execution_count": 4,
   "metadata": {},
   "outputs": [],
   "source": [
    "def sim_all_results_dir(all_results_dir = \"../results\"):\n",
    "    \n",
    "    results_path_list= get_result_dir_path(all_results_dir)\n",
    "    print(\"results_path_list :\" , results_path_list)\n",
    "\n",
    "    for results_dir_path in results_path_list:\n",
    "    \n",
    "        results_dir_name = cut_parent_dir(results_dir_path, all_results_dir)\n",
    "        #results/<ある条件でのpeppercorn実行結果ディレクトリ> の１つ\n",
    "        print(\"ライブラリパス：\", results_dir_path, \"\\n\")\n",
    "        print(\"ライブラリ名：\", results_dir_name, \"\\n\")\n",
    "        print(\"-----------------------------sim : {} start--------------------------------\".format(results_dir_name))\n",
    "        run_main_for_eachfiles(results_dir_path)\n",
    "        print(\"-----------------------------sim : {} end--------------------------------\".format(results_dir_name))"
   ]
  },
  {
   "cell_type": "code",
   "execution_count": 5,
   "metadata": {},
   "outputs": [],
   "source": [
    "def run_main_for_eachfiles(results_dir_path):\n",
    "    #result_filesはresults内の複数ライブラリそれぞれにあるoutput***.pilのパスを抽出した一覧\n",
    "    d = {' ' :  '_', '.' :  '', ':' : '_'}\n",
    "    tbl = str.maketrans(d)\n",
    "    result_files = glob.glob(\"{}/output*.pil\".format(results_dir_path))\n",
    "    for result_file in result_files:\n",
    "            print(\"結果ファイル：\", result_file, \"\\n\")\n",
    "            datetime_sim = str(datetime.datetime.now()).translate(tbl)\n",
    "            \n",
    "            output_folder = (\"./sim_result_peppercorn_\"+datetime_sim)# ??\n",
    "            print( \"oxdna実行結果出力先：\", output_folder, \"\\n\")\n",
    "\n",
    "\n",
    "            exeprogram = \"python3\"\n",
    "            exefile = \"./main.py\"\n",
    "            executable = [exeprogram, exefile, result_file, output_folder]\n",
    "            print(\"executable : \", executable)\n",
    "            #python3 argv[0]:main.py argv[1]:<result pilfile> argv[2]:<output folder>\n",
    "            logfile = datetime_sim+\"_log.txt\"\n",
    "            print(\"log : \",logfile)\n",
    "            with open(logfile,\"w\") as log:\n",
    "                runned = sp.run(executable, stdout=log, stderr=sp.STDOUT, text=True)\n",
    "                print(result_file)\n",
    "                shutil.copy(result_file, output_folder)\n",
    "\n",
    "            print(\"実行コマンド：\")\n",
    "            display(executable)\n",
    "            new_logpath = shutil.move(logfile, output_folder+\"/\"+logfile)\n",
    "            print(new_logpath)"
   ]
  },
  {
   "cell_type": "code",
   "execution_count": 6,
   "metadata": {},
   "outputs": [],
   "source": [
    "def main():\n",
    "    sim_all_results_dir()"
   ]
  },
  {
   "cell_type": "code",
   "execution_count": null,
   "metadata": {},
   "outputs": [
    {
     "name": "stdout",
     "output_type": "stream",
     "text": [
      "results_path_list : ['../results/peppercorntest']\n",
      "ライブラリパス： ../results/peppercorntest \n",
      "\n",
      "ライブラリ名： peppercorntest \n",
      "\n",
      "-----------------------------sim : peppercorntest start--------------------------------\n",
      "結果ファイル： ../results/peppercorntest/outputPepperCorn20220719181305_38101019984047591452587377159558514161_0.pil \n",
      "\n",
      "oxdna実行結果出力先： ./sim_result_peppercorn_2022-07-21_15_28_15514670 \n",
      "\n",
      "executable :  ['python3', './main.py', '../results/peppercorntest/outputPepperCorn20220719181305_38101019984047591452587377159558514161_0.pil', './sim_result_peppercorn_2022-07-21_15_28_15514670']\n",
      "log :  2022-07-21_15_28_15514670_log.txt\n"
     ]
    }
   ],
   "source": [
    "if __name__ == \"__main__\":\n",
    "    main()"
   ]
  }
 ],
 "metadata": {
  "kernelspec": {
   "display_name": "Python 3",
   "language": "python",
   "name": "python3"
  },
  "language_info": {
   "codemirror_mode": {
    "name": "ipython",
    "version": 3
   },
   "file_extension": ".py",
   "mimetype": "text/x-python",
   "name": "python",
   "nbconvert_exporter": "python",
   "pygments_lexer": "ipython3",
   "version": "3.7.6"
  },
  "vscode": {
   "interpreter": {
    "hash": "2c77d04659eed91cd59af899ef857c63df7af26b17d9072ac92f8acaf82a929a"
   }
  }
 },
 "nbformat": 4,
 "nbformat_minor": 4
}
