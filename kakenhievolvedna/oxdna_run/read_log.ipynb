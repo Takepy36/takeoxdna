{
 "cells": [
  {
   "cell_type": "code",
   "execution_count": 1,
   "metadata": {},
   "outputs": [],
   "source": [
    "import pandas as pd\n",
    "import matplotlib.pyplot as plt\n",
    "import os\n",
    "from pylab import rcParams"
   ]
  },
  {
   "cell_type": "code",
   "execution_count": null,
   "metadata": {},
   "outputs": [],
   "source": []
  },
  {
   "cell_type": "code",
   "execution_count": 2,
   "metadata": {},
   "outputs": [],
   "source": [
    "directory = \"sizelog\"\n",
    "loglist = []"
   ]
  },
  {
   "cell_type": "code",
   "execution_count": 3,
   "metadata": {},
   "outputs": [],
   "source": [
    "def make_loglist(directory_name):\n",
    "    filelist = os.listdir(directory_name)\n",
    "    for filename in filelist:\n",
    "        if \"_sizelog\" in filename:\n",
    "            loglist.append(os.path.join(directory_name, filename))\n",
    "    return loglist\n",
    "\n",
    "loglist = make_loglist(directory)"
   ]
  },
  {
   "cell_type": "code",
   "execution_count": 4,
   "metadata": {},
   "outputs": [],
   "source": [
    "def make_sizedata(loglist):\n",
    "    #引数：e**_sizelog.txtのファイル名リスト\n",
    "    sizedata = pd.DataFrame(columns=['id', 'cube', 'convexhull', 'expected_num_strands', 'actual_num_strands'])\n",
    "    for logfile in loglist:\n",
    "        #file = open(logfile, \"r\")\n",
    "        df = pd.read_csv( logfile, header=0, names = (\"id\", \"cube\", \"convexhull\", \"expected_num_strands\", \"actual_num_strands\"))\n",
    "        df[\"id\"] = df[\"id\"].apply(int)\n",
    "\n",
    "        sizedata = sizedata.append(df).sort_values(\"id\").reset_index(drop = True)\n",
    "        df.to_csv(\"sizedata1.csv\", index = False)\n",
    "\n",
    "    return sizedata\n",
    "#返り値：id,cubesize,convexhullsizeの順にまとめたデータフレーム "
   ]
  },
  {
   "cell_type": "code",
   "execution_count": 5,
   "metadata": {
    "scrolled": true
   },
   "outputs": [
    {
     "name": "stdout",
     "output_type": "stream",
     "text": [
      "               cube   convexhull\n",
      "count    357.000000   357.000000\n",
      "mean    3294.746274   503.594725\n",
      "std     4217.141587   596.453373\n",
      "min        6.477842     3.218475\n",
      "25%     1014.892667   207.050989\n",
      "50%     1930.404513   349.754011\n",
      "75%     3613.857750   567.411977\n",
      "max    33432.587079  6679.302871\n"
     ]
    },
    {
     "data": {
      "image/png": "[encoded data removed]",
      "text/plain": [
       "<Figure size 288x288 with 2 Axes>"
      ]
     },
     "metadata": {
      "needs_background": "light"
     },
     "output_type": "display_data"
    }
   ],
   "source": [
    "sizedata = make_sizedata(loglist)\n",
    "print(sizedata.describe())\n",
    "\n",
    "rcParams['figure.figsize'] = 4, 4\n",
    "\n",
    "sizedata.hist()\n",
    "plt.tight_layout()\n",
    "plt.show()\n",
    "\n",
    "\n",
    "#sizedata.plot.scatter(x='id', y='cube')#idには特に意味はない"
   ]
  },
  {
   "cell_type": "code",
   "execution_count": 6,
   "metadata": {},
   "outputs": [],
   "source": [
    "#sizedata.plot.scatter(x = \"id\", y = \"convexhull\")"
   ]
  },
  {
   "cell_type": "code",
   "execution_count": 7,
   "metadata": {},
   "outputs": [],
   "source": [
    "#sizedata.plot.scatter(x = \"cube\", y = \"convexhull\")"
   ]
  },
  {
   "cell_type": "code",
   "execution_count": 8,
   "metadata": {},
   "outputs": [],
   "source": [
    "#いろいろなサイズができていることを知りたい\n",
    "#ヒストグラムをつくって表示\n",
    "#これはpil一つから得たもののため、色々なpilからヒストグラムを作成してそれぞれ比較したい\n",
    "#今年では(一つあたり三日なので)難しそうだ。\n",
    "#参考 ：leoの実験では12個のpilで検証"
   ]
  }
 ],
 "metadata": {
  "kernelspec": {
   "display_name": "Python 3",
   "language": "python",
   "name": "python3"
  },
  "language_info": {
   "codemirror_mode": {
    "name": "ipython",
    "version": 3
   },
   "file_extension": ".py",
   "mimetype": "text/x-python",
   "name": "python",
   "nbconvert_exporter": "python",
   "pygments_lexer": "ipython3",
   "version": "3.7.6"
  }
 },
 "nbformat": 4,
 "nbformat_minor": 4
}
